{
 "cells": [
  {
   "cell_type": "markdown",
   "metadata": {},
   "source": [
    "# Team:\n",
    "1. Cano Morales Jeorval\n",
    "1. Cuevas Mendez Danilo\n",
    "1. Erosa Herrera Jorge\n",
    "1. Luna Estevez Saul\n",
    "1. Robles Garcia Jack"
   ]
  },
  {
   "cell_type": "code",
   "execution_count": 1,
   "metadata": {},
   "outputs": [],
   "source": [
    "class grafo:\n",
    "    #class initializer\n",
    "    def __init__(self, vertices = 0, dirigido = True):\n",
    "        \"\"\"\n",
    "        Docstring:\n",
    "        vertices: the number of vertices of the graph, this should always be 0 at the beginning\n",
    "        Dirigido: to know whetear it is a directed or non-directed graph\n",
    "        \"\"\"\n",
    "        self.VerticesNum = vertices\n",
    "        #list where all the names of the nodes are saved\n",
    "        self.Allvertex = []\n",
    "        #dictionary of dictionaries that contain the node and its neoghbors incluiding the value of the edge\n",
    "        self.Vertexneighbors = {}\n",
    "        #dictionary that contains the value of edges and the direction from node to the other node\n",
    "        self.edges = {}\n",
    "        self.directed = dirigido\n",
    "        \n",
    "        \n",
    "    def newvertex(self, key):\n",
    "        \"\"\"\n",
    "        Docstring: Function to add a new node\n",
    "        key is the name of the node\n",
    "        \"\"\"\n",
    "        self.Allvertex.append(key)\n",
    "        self.VerticesNum += 1\n",
    "        self.Vertexneighbors[key] = []\n",
    "        \n",
    "    def AddEdge(self, nodeA, nodeB, value = 1):\n",
    "        if nodeA not in self.Allvertex:\n",
    "            self.newvertex(nodeA)\n",
    "        if nodeB not in self.Allvertex:\n",
    "            self.newvertex(nodeB)\n",
    "        if {nodeB: value} in self.Vertexneighbors[nodeA]:\n",
    "            self.Vertexneighbors[nodeA].append({nodeB: value})\n",
    "        self.edges[str(nodeA)+\" -> \"+str(nodeB)] = value\n",
    "        #if it is a non directed graph\n",
    "        if {nodeA: value} in self.Vertexneighbors[nodeB]:\n",
    "            self.Vertexneighbors[nodeB].append({nodeA: value}) \n",
    "            \n",
    "        if self.directed:\n",
    "            if {nodeB: value} not in self.Vertexneighbors[nodeA]:\n",
    "                self.Vertexneighbors[nodeA].append({nodeB: value})\n",
    "            self.edges[str(nodeA)+\" -> \"+str(nodeB)] = value\n",
    "        else:\n",
    "            if {nodeB: value} not in self.Vertexneighbors[nodeA]:\n",
    "                self.Vertexneighbors[nodeA].append({nodeB: value})\n",
    "        #if it is a non directed graph\n",
    "            if {nodeA: value} not in self.Vertexneighbors[nodeB]:\n",
    "                self.Vertexneighbors[nodeB].append({nodeA: value})\n",
    "                \n",
    "            self.edges[str(nodeA)+\" -> \"+str(nodeB)] = value\n",
    "            self.edges[str(nodeB)+\" -> \"+str(nodeA)] = value\n",
    "            \n",
    "            \n",
    "    def Vertices(self):\n",
    "        for i in self.Allvertex:\n",
    "            print(i)\n",
    "            \n",
    "    def NeighborsOfANode(self, node):\n",
    "        print(self.Vertexneighbors[nodeA])\n",
    "        \n",
    "    def Edges(self):\n",
    "        print(self.edge)\n",
    "        \n",
    "    def BellmanFord(self, source):\n",
    "        \"\"\"\n",
    "        Docstring: function to make get the shorthest path through BellmanFord\n",
    "        source is from which node you will begin \n",
    "        \"\"\"\n",
    "        #dictionary to save the distances \n",
    "        distances = {}\n",
    "        #giving a value to the distances where the source have value 0 and the rest infinity\n",
    "        for i in self.Allvertex:\n",
    "            if i == source:\n",
    "                distances[i] = 0\n",
    "            else:\n",
    "                distances[i] = float('inf')\n",
    "                \n",
    "        #for to get the distances\n",
    "        for i in range(self.VerticesNum):\n",
    "            for j in list(self.edges.keys()):\n",
    "                nodes = j.split(\" \")\n",
    "                if distances[nodes[0]] != float(\"Inf\") and distances[nodes[0]] + self.edges[j] < distances[nodes[2]]:\n",
    "                    distances[nodes[2]] = distances[nodes[0]] + self.edges[j]\n",
    "                    \n",
    "        #loop to check if there is a negative cycle\n",
    "        for j in list(self.edges.keys()):\n",
    "            nodes = j.split(\" \")\n",
    "            if distances[nodes[0]] != float(\"Inf\") and distances[nodes[0]] + self.edges[j] < distances[nodes[2]]:\n",
    "                print(\"The graph contain a negative cycle\")\n",
    "                return \n",
    "        print(distances)\n",
    "        \n",
    "    def minValue(self, dist, source, usados):\n",
    "        \"\"\"\n",
    "        Function to get the min value of a node\n",
    "        dist is the distances values, source is the node already used and usados are the nodes that are not used yet\n",
    "        return the node with the lowest value\n",
    "        \"\"\"\n",
    "        x = float(\"inf\")\n",
    "        y = source\n",
    "        for i in list(dist.keys()):\n",
    "            if dist[i] < x and i != source and (i in usados):\n",
    "                x = dist[i]\n",
    "                y = i\n",
    "        return y\n",
    "    \n",
    "    def Dijkstra(self, source):\n",
    "        \"\"\"\n",
    "        Docstring: function to make get the shorthest path through Dijkstra\n",
    "        source is from which node you will begin \n",
    "        \"\"\"\n",
    "        distances = {}\n",
    "        for i in self.Allvertex:\n",
    "            if i == source:\n",
    "                distances[i] = 0\n",
    "            else:\n",
    "                distances[i] = float('inf')\n",
    "        used = list(distances.keys())\n",
    "        while len(used) != 0:\n",
    "            u = self.minValue(distances, source, used)\n",
    "            for i in self.Vertexneighbors[u]:\n",
    "                key = list(i.keys())[0]\n",
    "                if distances[u] != float(\"Inf\") and distances[u] + i[key] < distances[key]:\n",
    "                    distances[key] = distances[u] + i[key]\n",
    "            try:\n",
    "                index = used.index(u)\n",
    "                used.pop(index)\n",
    "                source = u\n",
    "            except:\n",
    "                print(distances)\n",
    "                return\n",
    "        print(distances)\n",
    "        \n",
    "    def BFS(self, source):\n",
    "        \"\"\"\n",
    "        Function to get the Breadth first search\n",
    "        source is the node to start\n",
    "        \"\"\"\n",
    "        allnodes = self.Allvertex[:]\n",
    "        queue = []\n",
    "        visitados = {}\n",
    "        queue.append(source)\n",
    "        for i in self.Allvertex:\n",
    "            if i == source:\n",
    "                visitados[i] = 1\n",
    "            else:\n",
    "                visitados[i] = 0\n",
    "        while len(queue) != 0 or len(allnodes) != 0:\n",
    "            allnodes = [a for a in allnodes if a not in queue]\n",
    "            if len(queue) > 0:\n",
    "                node = queue.pop(0)\n",
    "                print(node)\n",
    "            else:\n",
    "                node = allnodes.pop(0)\n",
    "                visitados[node] = 1\n",
    "                print(node)\n",
    "            for j in self.Vertexneighbors[node]:\n",
    "                i = list(j.keys())[0]\n",
    "                if visitados[i] == 0:\n",
    "                    print('visitado: ',i)\n",
    "                    queue.append(i)\n",
    "                    visitados[i] = 1\n",
    "                 \n",
    "    def DFS(self, source):\n",
    "        \"\"\"\n",
    "        Function t get the Depth first search\n",
    "        source is the node to start\n",
    "        \"\"\"\n",
    "        allnodes = self.Allvertex[:]\n",
    "        stack = []\n",
    "        visitados = {}\n",
    "        stack.append(source)\n",
    "        for i in self.Allvertex:\n",
    "            if i == source:\n",
    "                visitados[i] = 1\n",
    "            else:\n",
    "                visitados[i] = 0\n",
    "                \n",
    "        print(source)\n",
    "        for j in self.Allvertex:\n",
    "            llave = j\n",
    "            if visitados[llave] == 0:\n",
    "                print(llave)\n",
    "                visitados[llave] = 1\n",
    "                self.dfs(llave, stack, visitados)\n",
    "            \n",
    "    def dfs(self, node, stack, visitados):\n",
    "        \"\"\"\n",
    "        Function to visit all the adjacent nodes\n",
    "        \"\"\"\n",
    "        for j in self.Vertexneighbors[node]:\n",
    "            llave = list(j.keys())[0]\n",
    "            if visitados[llave] == 0:\n",
    "                print(llave)\n",
    "                stack.append(llave)\n",
    "                visitados[llave] = 1\n",
    "                self.dfs(llave, stack, visitados)\n",
    "              \n",
    "            \n",
    "    def buscarvalor(self, llave, valor):\n",
    "        \"\"\"\n",
    "        Function to look for the value of the edge between two nodes\n",
    "        llave is the from node and valor is the to node\n",
    "        \"\"\"\n",
    "        for j in self.Vertexneighbors[llave]:\n",
    "            llave = list(j.keys())[0]\n",
    "            if llave == valor:\n",
    "                return j[llave]\n",
    "        return float(\"inf\")\n",
    "    \n",
    "    def FloydWarshall(self):\n",
    "        \"\"\"\n",
    "        Function to get the shorthest between each node\n",
    "        \"\"\"\n",
    "        matrix = []\n",
    "        lista = sorted(self.Allvertex)\n",
    "        h = 0\n",
    "        for j in lista:\n",
    "            matrix.append([])\n",
    "            for i in lista:\n",
    "                if j == i:\n",
    "                    matrix[h].append(0)\n",
    "                else:\n",
    "                    matrix[h].append(self.buscarvalor(j,i)) \n",
    "            h += 1\n",
    "            \n",
    "        size = len(matrix)\n",
    "        self.printmatrix(matrix)\n",
    "        for i in range(size):\n",
    "            for j in range(size):\n",
    "                for k in range(size):\n",
    "                    if matrix[j][k] > matrix[j][i] + matrix[i][k]:\n",
    "                        matrix[j][k] = matrix[j][i] + matrix[i][k]\n",
    "            self.printmatrix(matrix)\n",
    "            \n",
    "    def printmatrix(self, matriz):\n",
    "        for i in matriz:\n",
    "            print(i)\n",
    "                \n",
    "        print(\"\\n\\n\")\n",
    "        "
   ]
  },
  {
   "cell_type": "code",
   "execution_count": 2,
   "metadata": {},
   "outputs": [],
   "source": [
    "x = grafo(dirigido = True)"
   ]
  },
  {
   "cell_type": "code",
   "execution_count": null,
   "metadata": {},
   "outputs": [],
   "source": [
    "x.AddEdge()"
   ]
  },
  {
   "cell_type": "code",
   "execution_count": null,
   "metadata": {},
   "outputs": [],
   "source": [
    "x.AddEdge('a','b', 5)\n",
    "x.AddEdge('a','c', 4)\n",
    "x.AddEdge('b',1, 1)\n",
    "x.AddEdge(5,4, 4)"
   ]
  },
  {
   "cell_type": "code",
   "execution_count": 4,
   "metadata": {},
   "outputs": [
    {
     "name": "stdin",
     "output_type": "stream",
     "text": [
      "How many levels are:  4\n"
     ]
    }
   ],
   "source": [
    "n = int(input(\"How many levels are: \"))"
   ]
  },
  {
   "cell_type": "code",
   "execution_count": 6,
   "metadata": {},
   "outputs": [
    {
     "name": "stdin",
     "output_type": "stream",
     "text": [
      "Introduce values:  2 5 4 1 4 7 8 6 9 6\n"
     ]
    }
   ],
   "source": [
    "lista = list(input(\"Introduce values: \").split(\" \"))"
   ]
  },
  {
   "cell_type": "code",
   "execution_count": 7,
   "metadata": {},
   "outputs": [
    {
     "data": {
      "text/plain": [
       "['2', '5', '4', '1', '4', '7', '8', '6', '9', '6']"
      ]
     },
     "execution_count": 7,
     "metadata": {},
     "output_type": "execute_result"
    }
   ],
   "source": [
    "lista"
   ]
  },
  {
   "cell_type": "code",
   "execution_count": 11,
   "metadata": {},
   "outputs": [
    {
     "name": "stdout",
     "output_type": "stream",
     "text": [
      "['2']\n",
      "['2', '5']\n",
      "['5']\n",
      "['2', '5', '4']\n",
      "['5', '4']\n",
      "['4']\n",
      "['2', '5', '4', '1']\n",
      "['5', '4', '1']\n",
      "['4', '1']\n",
      "['1']\n"
     ]
    }
   ],
   "source": [
    "k = 0\n",
    "for j in range(1,n+1):\n",
    "    for i in range(j):\n",
    "        print(lista[i:j])"
   ]
  },
  {
   "cell_type": "code",
   "execution_count": 12,
   "metadata": {},
   "outputs": [
    {
     "name": "stdout",
     "output_type": "stream",
     "text": [
      "Level  1\n"
     ]
    },
    {
     "name": "stdin",
     "output_type": "stream",
     "text": [
      "Introduce value of the node 2\n"
     ]
    },
    {
     "name": "stdout",
     "output_type": "stream",
     "text": [
      "Level  2\n"
     ]
    },
    {
     "name": "stdin",
     "output_type": "stream",
     "text": [
      "Introduce value of the node 5\n",
      "Introduce value of the node 4\n"
     ]
    },
    {
     "name": "stdout",
     "output_type": "stream",
     "text": [
      "Level  3\n"
     ]
    },
    {
     "name": "stdin",
     "output_type": "stream",
     "text": [
      "Introduce value of the node 1\n",
      "Introduce value of the node 4\n",
      "Introduce value of the node 7\n"
     ]
    },
    {
     "name": "stdout",
     "output_type": "stream",
     "text": [
      "Level  4\n"
     ]
    },
    {
     "name": "stdin",
     "output_type": "stream",
     "text": [
      "Introduce value of the node 8\n",
      "Introduce value of the node 6\n",
      "Introduce value of the node 9\n",
      "Introduce value of the node 6\n"
     ]
    }
   ],
   "source": [
    "k = int(input(\"Introduce the first node\"))\n",
    "for i in range(2,n+1):    \n",
    "    print(\"Level \",i)\n",
    "    for j in range(i):\n",
    "        value = int(input(\"Introduce value of the node\"))\n",
    "        x.AddEdge(k, value, value)\n",
    "    k "
   ]
  },
  {
   "cell_type": "code",
   "execution_count": 14,
   "metadata": {},
   "outputs": [
    {
     "data": {
      "text/plain": [
       "{0: [{1: 2}],\n",
       " 1: [{2: 5}, {3: 4}],\n",
       " 2: [{4: 1}, {5: 4}, {6: 7}],\n",
       " 3: [{7: 8}, {8: 6}, {9: 9}, {10: 6}],\n",
       " 4: [],\n",
       " 5: [],\n",
       " 6: [],\n",
       " 7: [],\n",
       " 8: [],\n",
       " 9: [],\n",
       " 10: []}"
      ]
     },
     "execution_count": 14,
     "metadata": {},
     "output_type": "execute_result"
    }
   ],
   "source": [
    "x.Vertexneighbors"
   ]
  },
  {
   "cell_type": "code",
   "execution_count": 13,
   "metadata": {},
   "outputs": [
    {
     "name": "stdout",
     "output_type": "stream",
     "text": [
      "{0: 0, 1: 2, 2: 7, 3: 6, 4: 8, 5: 11, 6: 14, 7: 14, 8: 12, 9: 15, 10: 12}\n"
     ]
    }
   ],
   "source": [
    "x.Dijkstra(0)"
   ]
  },
  {
   "cell_type": "markdown",
   "metadata": {},
   "source": [
    "# a. (1 pt) Breadth-First Search."
   ]
  },
  {
   "cell_type": "code",
   "execution_count": 2,
   "metadata": {},
   "outputs": [],
   "source": [
    "z = grafo(dirigido = False)"
   ]
  },
  {
   "cell_type": "code",
   "execution_count": 3,
   "metadata": {},
   "outputs": [],
   "source": [
    "z.AddEdge(1,2,1)\n",
    "z.AddEdge(1,8,1)\n",
    "z.AddEdge(2,3,1)\n",
    "z.AddEdge(2,8,1)\n",
    "z.AddEdge(3,4,1)\n",
    "z.AddEdge(3,8,1)\n",
    "z.AddEdge(4,9,1)\n",
    "z.AddEdge(4,7,1)\n",
    "z.AddEdge(7,8,1)\n",
    "z.AddEdge(7,5,1)\n",
    "z.AddEdge(5,6,1)"
   ]
  },
  {
   "cell_type": "code",
   "execution_count": 4,
   "metadata": {},
   "outputs": [
    {
     "name": "stdout",
     "output_type": "stream",
     "text": [
      "1\n",
      "visitado:  2\n",
      "visitado:  8\n",
      "2\n",
      "visitado:  3\n",
      "8\n",
      "visitado:  7\n",
      "3\n",
      "visitado:  4\n",
      "7\n",
      "visitado:  5\n",
      "4\n",
      "visitado:  9\n",
      "5\n",
      "visitado:  6\n",
      "9\n",
      "6\n"
     ]
    }
   ],
   "source": [
    "z.BFS(1)"
   ]
  },
  {
   "cell_type": "markdown",
   "metadata": {},
   "source": [
    "# b. (1 pt) Depth-First Search."
   ]
  },
  {
   "cell_type": "code",
   "execution_count": 5,
   "metadata": {},
   "outputs": [],
   "source": [
    "w = grafo(dirigido = False)"
   ]
  },
  {
   "cell_type": "code",
   "execution_count": 6,
   "metadata": {},
   "outputs": [],
   "source": [
    "w.AddEdge(1,2,1)\n",
    "w.AddEdge(1,8,1)\n",
    "w.AddEdge(2,3,1)\n",
    "w.AddEdge(2,8,1)\n",
    "w.AddEdge(3,4,1)\n",
    "w.AddEdge(3,8,1)\n",
    "w.AddEdge(4,9,1)\n",
    "w.AddEdge(4,7,1)\n",
    "w.AddEdge(7,8,1)\n",
    "w.AddEdge(7,5,1)\n",
    "w.AddEdge(5,6,1)"
   ]
  },
  {
   "cell_type": "code",
   "execution_count": 7,
   "metadata": {},
   "outputs": [
    {
     "name": "stdout",
     "output_type": "stream",
     "text": [
      "1\n",
      "2\n",
      "3\n",
      "4\n",
      "9\n",
      "7\n",
      "8\n",
      "5\n",
      "6\n"
     ]
    }
   ],
   "source": [
    "w.DFS(1)"
   ]
  },
  {
   "cell_type": "markdown",
   "metadata": {},
   "source": [
    "# c.(1 pt) Bellman-Ford Algorithm."
   ]
  },
  {
   "cell_type": "code",
   "execution_count": 8,
   "metadata": {},
   "outputs": [],
   "source": [
    "x = grafo()"
   ]
  },
  {
   "cell_type": "code",
   "execution_count": 12,
   "metadata": {},
   "outputs": [],
   "source": [
    "x.AddEdge('s','t',6)\n",
    "x.AddEdge('s','y',7)\n",
    "x.AddEdge('t','y',8)\n",
    "x.AddEdge('t','x',5)\n",
    "x.AddEdge('x','t',-2)\n",
    "x.AddEdge('t','z',-4)\n",
    "x.AddEdge('y','x',-3)\n",
    "x.AddEdge('y','z',9)\n",
    "x.AddEdge('z','s',2)\n",
    "x.AddEdge('z','x',4)"
   ]
  },
  {
   "cell_type": "code",
   "execution_count": 13,
   "metadata": {},
   "outputs": [
    {
     "name": "stdout",
     "output_type": "stream",
     "text": [
      "The graph contain a negative cycle\n"
     ]
    }
   ],
   "source": [
    "x.BellmanFord('s')"
   ]
  },
  {
   "cell_type": "markdown",
   "metadata": {},
   "source": [
    "# d. (1 pt) Dijkstra’s Algorithm."
   ]
  },
  {
   "cell_type": "code",
   "execution_count": 11,
   "metadata": {},
   "outputs": [],
   "source": [
    "y = grafo()"
   ]
  },
  {
   "cell_type": "code",
   "execution_count": 12,
   "metadata": {},
   "outputs": [],
   "source": [
    "y.AddEdge('s','t',10)\n",
    "y.AddEdge('s','y',5)\n",
    "y.AddEdge('t','y',2)\n",
    "y.AddEdge('y','t',3)\n",
    "y.AddEdge('t','x',1)\n",
    "y.AddEdge('y','x',9)\n",
    "y.AddEdge('y','z',2)\n",
    "y.AddEdge('z','s',7)\n",
    "y.AddEdge('z','x',6)\n",
    "y.AddEdge('x','z',4)"
   ]
  },
  {
   "cell_type": "code",
   "execution_count": 13,
   "metadata": {},
   "outputs": [
    {
     "name": "stdout",
     "output_type": "stream",
     "text": [
      "{'s': 0, 't': 8, 'y': 5, 'x': 9, 'z': 7}\n"
     ]
    }
   ],
   "source": [
    "y.Dijkstra('s')"
   ]
  },
  {
   "cell_type": "markdown",
   "metadata": {},
   "source": [
    "# e. (1 pt) Floyd-Warshall Algorithm."
   ]
  },
  {
   "cell_type": "code",
   "execution_count": 14,
   "metadata": {},
   "outputs": [],
   "source": [
    "F = grafo()"
   ]
  },
  {
   "cell_type": "code",
   "execution_count": 15,
   "metadata": {},
   "outputs": [],
   "source": [
    "F.AddEdge(1,2,3)\n",
    "F.AddEdge(1,3,8)\n",
    "F.AddEdge(1,5,-4)\n",
    "F.AddEdge(2,4,1)\n",
    "F.AddEdge(2,5,7)\n",
    "F.AddEdge(3,2,4)\n",
    "F.AddEdge(4,3,-5)\n",
    "F.AddEdge(4,1,2)\n",
    "F.AddEdge(5,4,6)"
   ]
  },
  {
   "cell_type": "code",
   "execution_count": 16,
   "metadata": {},
   "outputs": [
    {
     "name": "stdout",
     "output_type": "stream",
     "text": [
      "[0, 3, 8, inf, -4]\n",
      "[inf, 0, inf, 1, 7]\n",
      "[inf, 4, 0, inf, inf]\n",
      "[2, inf, -5, 0, inf]\n",
      "[inf, inf, inf, 6, 0]\n",
      "\n",
      "\n",
      "\n",
      "[0, 3, 8, inf, -4]\n",
      "[inf, 0, inf, 1, 7]\n",
      "[inf, 4, 0, inf, inf]\n",
      "[2, 5, -5, 0, -2]\n",
      "[inf, inf, inf, 6, 0]\n",
      "\n",
      "\n",
      "\n",
      "[0, 3, 8, 4, -4]\n",
      "[inf, 0, inf, 1, 7]\n",
      "[inf, 4, 0, 5, 11]\n",
      "[2, 5, -5, 0, -2]\n",
      "[inf, inf, inf, 6, 0]\n",
      "\n",
      "\n",
      "\n",
      "[0, 3, 8, 4, -4]\n",
      "[inf, 0, inf, 1, 7]\n",
      "[inf, 4, 0, 5, 11]\n",
      "[2, -1, -5, 0, -2]\n",
      "[inf, inf, inf, 6, 0]\n",
      "\n",
      "\n",
      "\n",
      "[0, 3, -1, 4, -4]\n",
      "[3, 0, -4, 1, -1]\n",
      "[7, 4, 0, 5, 3]\n",
      "[2, -1, -5, 0, -2]\n",
      "[8, 5, 1, 6, 0]\n",
      "\n",
      "\n",
      "\n",
      "[0, 1, -3, 2, -4]\n",
      "[3, 0, -4, 1, -1]\n",
      "[7, 4, 0, 5, 3]\n",
      "[2, -1, -5, 0, -2]\n",
      "[8, 5, 1, 6, 0]\n",
      "\n",
      "\n",
      "\n"
     ]
    }
   ],
   "source": [
    "F.FloydWarshall()"
   ]
  },
  {
   "cell_type": "code",
   "execution_count": null,
   "metadata": {},
   "outputs": [],
   "source": []
  },
  {
   "cell_type": "code",
   "execution_count": 17,
   "metadata": {},
   "outputs": [],
   "source": [
    "mrOlimpia2 = grafo()\n",
    "mrOlimpia2.AddEdge('1','2',4)\n",
    "mrOlimpia2.AddEdge('1','3',3)\n",
    "mrOlimpia2.AddEdge('3','5',4)\n",
    "mrOlimpia2.AddEdge('3','6',2)\n",
    "mrOlimpia2.AddEdge('5','7',2)\n",
    "mrOlimpia2.AddEdge('7','8',2)\n",
    "mrOlimpia2.AddEdge('8','5',2)\n",
    "mrOlimpia2.AddEdge('7','6',2)\n",
    "mrOlimpia2.AddEdge('6','2',3)\n",
    "mrOlimpia2.AddEdge('6','5',3)"
   ]
  },
  {
   "cell_type": "code",
   "execution_count": 18,
   "metadata": {},
   "outputs": [
    {
     "name": "stdout",
     "output_type": "stream",
     "text": [
      "{'1': inf, '2': 5, '3': 0, '5': 4, '6': 2, '7': 6, '8': 8}\n"
     ]
    }
   ],
   "source": [
    "mrOlimpia2.Dijkstra('3')"
   ]
  },
  {
   "cell_type": "code",
   "execution_count": null,
   "metadata": {},
   "outputs": [],
   "source": []
  }
 ],
 "metadata": {
  "kernelspec": {
   "display_name": "Python 3",
   "language": "python",
   "name": "python3"
  },
  "language_info": {
   "codemirror_mode": {
    "name": "ipython",
    "version": 3
   },
   "file_extension": ".py",
   "mimetype": "text/x-python",
   "name": "python",
   "nbconvert_exporter": "python",
   "pygments_lexer": "ipython3",
   "version": "3.6.8"
  }
 },
 "nbformat": 4,
 "nbformat_minor": 4
}
